{
  "nbformat": 4,
  "nbformat_minor": 0,
  "metadata": {
    "colab": {
      "private_outputs": true,
      "provenance": [],
      "collapsed_sections": [
        "vncDsAP0Gaoa",
        "FJNUwmbgGyua",
        "w6K7xa23Elo4",
        "yQaldy8SH6Dl",
        "PH-0ReGfmX4f",
        "mDgbUHAGgjLW",
        "O_i_v8NEhb9l",
        "HhfV-JJviCcP",
        "Y3lxredqlCYt",
        "3RnN4peoiCZX",
        "x71ZqKXriCWQ",
        "7hBIi_osiCS2",
        "JlHwYmJAmNHm",
        "35m5QtbWiB9F",
        "PoPl-ycgm1ru",
        "H0kj-8xxnORC",
        "nA9Y7ga8ng1Z",
        "PBTbrJXOngz2",
        "u3PMJOP6ngxN",
        "dauF4eBmngu3",
        "bKJF3rekwFvQ",
        "MSa1f5Uengrz",
        "GF8Ens_Soomf",
        "0wOQAZs5pc--",
        "K5QZ13OEpz2H",
        "lQ7QKXXCp7Bj",
        "448CDAPjqfQr",
        "KSlN3yHqYklG",
        "t6dVpIINYklI",
        "ijmpgYnKYklI",
        "-JiQyfWJYklI",
        "EM7whBJCYoAo",
        "fge-S5ZAYoAp",
        "85gYPyotYoAp",
        "RoGjAbkUYoAp",
        "4Of9eVA-YrdM",
        "iky9q4vBYrdO",
        "F6T5p64dYrdO",
        "y-Ehk30pYrdP",
        "bamQiAODYuh1",
        "QHF8YVU7Yuh3",
        "GwzvFGzlYuh3",
        "qYpmQ266Yuh3",
        "OH-pJp9IphqM",
        "bbFf2-_FphqN",
        "_ouA3fa0phqN",
        "Seke61FWphqN",
        "PIIx-8_IphqN",
        "t27r6nlMphqO",
        "r2jJGEOYphqO",
        "b0JNsNcRphqO",
        "BZR9WyysphqO",
        "jj7wYXLtphqO",
        "eZrbJ2SmphqO",
        "rFu4xreNphqO",
        "YJ55k-q6phqO",
        "gCFgpxoyphqP",
        "OVtJsKN_phqQ",
        "lssrdh5qphqQ",
        "U2RJ9gkRphqQ",
        "1M8mcRywphqQ",
        "tgIPom80phqQ",
        "JMzcOPDDphqR",
        "x-EpHcCOp1ci",
        "X_VqEhTip1ck",
        "8zGJKyg5p1ck",
        "PVzmfK_Ep1ck",
        "n3dbpmDWp1ck",
        "ylSl6qgtp1ck",
        "ZWILFDl5p1ck",
        "M7G43BXep1ck",
        "Ag9LCva-p1cl",
        "E6MkPsBcp1cl",
        "2cELzS2fp1cl",
        "3MPXvC8up1cl",
        "NC_X3p0fY2L0",
        "UV0SzAkaZNRQ",
        "YPEH6qLeZNRQ",
        "q29F0dvdveiT",
        "EXh0U9oCveiU",
        "22aHeOlLveiV",
        "JcMwzZxoAimU",
        "8G2x9gOozGDZ",
        "gCX9965dhzqZ",
        "gIfDvo9L0UH2"
      ]
    },
    "kernelspec": {
      "name": "python3",
      "display_name": "Python 3"
    },
    "language_info": {
      "name": "python"
    }
  },
  "cells": [
    {
      "cell_type": "markdown",
      "source": [
        "# **Project Name**    -\n",
        "Bridging the Gap: Optimizing Uber’s Supply and Demand through Data Analysis\n",
        "\n"
      ],
      "metadata": {
        "id": "vncDsAP0Gaoa"
      }
    },
    {
      "cell_type": "markdown",
      "source": [
        "##### **Project Type**    - EDA\n",
        "##### **Contribution**    - Individual\n",
        "Member- Nikhar Roy Chaudhuri"
      ],
      "metadata": {
        "id": "beRrZCGUAJYm"
      }
    },
    {
      "cell_type": "markdown",
      "source": [
        "# **Project Summary -**"
      ],
      "metadata": {
        "id": "FJNUwmbgGyua"
      }
    },
    {
      "cell_type": "markdown",
      "source": [
        "Write the summary here within 500-600 words.\n",
        "This project aims to analyze Uber ride request data to identify and address the supply-demand gap issues in urban transport. The main objective is to determine when and where customer demand exceeds driver availability, leading to unfulfilled requests or long wait times.\n",
        "\n",
        "Data Preparation\n",
        "\n",
        "The dataset includes ride request timestamps, pickup points, and trip statuses. After cleaning, we extracted features such as request hour and day of the week to analyze patterns more effectively.\n",
        "\n",
        "Exploratory Data Analysis (EDA)\n",
        "\n",
        "The EDA revealed two major peak periods:\n",
        "\n",
        "Morning Rush (5 AM–9 AM): High demand from the City to the Airport, with a large number of unfulfilled requests due to fewer available drivers in the City.\n",
        "Evening Rush (5 PM–9 PM): High demand from the Airport to the City, where supply again falls short, leading to many \"No Cars Available\" statuses.\n",
        "Heatmaps and bar charts confirmed that these are critical time windows where the supply-demand gap is most prominent. A boxplot of pickup delays further highlighted longer waiting times during peak hours. Weekday patterns (limited to Monday and Tuesday) showed consistent demand, suggesting that time of day and location are the bigger challenges.\n",
        "\n",
        "Key Insights\n",
        "\n",
        "City mornings and Airport evenings face the highest unfulfilled demand.\n",
        "Driver unavailability is the primary reason for request failures.\n",
        "Pickup delays rise sharply during peak times.\n",
        "Recommendations\n",
        "\n",
        "Incentivize drivers to operate in high-demand areas during peak hours.\n",
        "Balance supply dynamically using predictive demand models.\n",
        "Promote scheduled rides, especially for airport pickups, to ensure availability.\n",
        "By addressing these critical gaps with data-driven strategies, Uber can improve customer experience, reduce cancellations, and optimize resource deployment."
      ],
      "metadata": {
        "id": "F6v_1wHtG2nS"
      }
    },
    {
      "cell_type": "markdown",
      "source": [
        "# **GitHub Link -**"
      ],
      "metadata": {
        "id": "w6K7xa23Elo4"
      }
    },
    {
      "cell_type": "markdown",
      "source": [
        "Provide your GitHub Link here."
      ],
      "metadata": {
        "id": "h1o69JH3Eqqn"
      }
    },
    {
      "cell_type": "markdown",
      "source": [
        "# **Problem Statement**\n"
      ],
      "metadata": {
        "id": "yQaldy8SH6Dl"
      }
    },
    {
      "cell_type": "markdown",
      "source": [
        "**Write Problem Statement Here.**\n",
        "Uber is facing a significant gap between ride demand and driver supply during certain hours and pickup locations. This leads to a high number of unfulfilled requests, customer dissatisfaction, and revenue loss. The goal is to identify patterns causing this mismatch and suggest data-driven strategies to bridge the supply-demand gap effectively."
      ],
      "metadata": {
        "id": "DpeJGUA3kjGy"
      }
    },
    {
      "cell_type": "markdown",
      "source": [
        "#### **Define Your Business Objective?**"
      ],
      "metadata": {
        "id": "PH-0ReGfmX4f"
      }
    },
    {
      "cell_type": "markdown",
      "source": [
        "Answer Here-To analyze Uber ride request data and identify key causes of supply-demand gaps—such as peak-hour shortages, driver unavailability, and high cancellation rates—to help Uber improve driver allocation and minimize unmet demand."
      ],
      "metadata": {
        "id": "PhDvGCAqmjP1"
      }
    },
    {
      "cell_type": "markdown",
      "source": [
        "# **General Guidelines** : -  "
      ],
      "metadata": {
        "id": "mDgbUHAGgjLW"
      }
    },
    {
      "cell_type": "markdown",
      "source": [
        "1.   Well-structured, formatted, and commented code is required.\n",
        "2.   Exception Handling, Production Grade Code & Deployment Ready Code will be a plus. Those students will be awarded some additional credits.\n",
        "     \n",
        "     The additional credits will have advantages over other students during Star Student selection.\n",
        "       \n",
        "             [ Note: - Deployment Ready Code is defined as, the whole .ipynb notebook should be executable in one go\n",
        "                       without a single error logged. ]\n",
        "\n",
        "3.   Each and every logic should have proper comments.\n",
        "4. You may add as many number of charts you want. Make Sure for each and every chart the following format should be answered.\n",
        "        \n",
        "\n",
        "```\n",
        "# Chart visualization code\n",
        "```\n",
        "            \n",
        "\n",
        "*   Why did you pick the specific chart?\n",
        "*   What is/are the insight(s) found from the chart?\n",
        "* Will the gained insights help creating a positive business impact?\n",
        "Are there any insights that lead to negative growth? Justify with specific reason.\n",
        "\n",
        "5. You have to create at least 20 logical & meaningful charts having important insights.\n",
        "\n",
        "\n",
        "[ Hints : - Do the Vizualization in  a structured way while following \"UBM\" Rule.\n",
        "\n",
        "U - Univariate Analysis,\n",
        "\n",
        "B - Bivariate Analysis (Numerical - Categorical, Numerical - Numerical, Categorical - Categorical)\n",
        "\n",
        "M - Multivariate Analysis\n",
        " ]\n",
        "\n",
        "\n",
        "\n"
      ],
      "metadata": {
        "id": "ZrxVaUj-hHfC"
      }
    },
    {
      "cell_type": "markdown",
      "source": [
        "# ***Let's Begin !***"
      ],
      "metadata": {
        "id": "O_i_v8NEhb9l"
      }
    },
    {
      "cell_type": "markdown",
      "source": [
        "## ***1. Know Your Data***"
      ],
      "metadata": {
        "id": "HhfV-JJviCcP"
      }
    },
    {
      "cell_type": "markdown",
      "source": [
        "### Import Libraries"
      ],
      "metadata": {
        "id": "Y3lxredqlCYt"
      }
    },
    {
      "cell_type": "code",
      "source": [
        "# Import Libraries"
      ],
      "metadata": {
        "id": "M8Vqi-pPk-HR"
      },
      "execution_count": null,
      "outputs": []
    },
    {
      "cell_type": "code",
      "source": [
        "# Import Libraries\n",
        "import pandas as pd\n",
        "import numpy as np\n",
        "import matplotlib.pyplot as plt\n",
        "import seaborn as sns\n"
      ],
      "metadata": {
        "id": "xcwkesdqay6R"
      },
      "execution_count": null,
      "outputs": []
    },
    {
      "cell_type": "markdown",
      "source": [
        "### Dataset Loading"
      ],
      "metadata": {
        "id": "3RnN4peoiCZX"
      }
    },
    {
      "cell_type": "code",
      "source": [
        "# Load Dataset"
      ],
      "metadata": {
        "id": "4CkvbW_SlZ_R"
      },
      "execution_count": null,
      "outputs": []
    },
    {
      "cell_type": "code",
      "source": [
        "# Load Dataset\n",
        "df = pd.read_csv('Uber Request Data.csv')\n"
      ],
      "metadata": {
        "id": "4tn_B4Gra7n6"
      },
      "execution_count": null,
      "outputs": []
    },
    {
      "cell_type": "markdown",
      "source": [
        "### Dataset First View"
      ],
      "metadata": {
        "id": "x71ZqKXriCWQ"
      }
    },
    {
      "cell_type": "code",
      "source": [
        "# Dataset First Look"
      ],
      "metadata": {
        "id": "LWNFOSvLl09H"
      },
      "execution_count": null,
      "outputs": []
    },
    {
      "cell_type": "code",
      "source": [
        "# Dataset First Look\n",
        "df.head()\n"
      ],
      "metadata": {
        "id": "XAk0PIjUa_kG"
      },
      "execution_count": null,
      "outputs": []
    },
    {
      "cell_type": "markdown",
      "source": [
        "### Dataset Rows & Columns count"
      ],
      "metadata": {
        "id": "7hBIi_osiCS2"
      }
    },
    {
      "cell_type": "code",
      "source": [
        "# Dataset Rows & Columns count"
      ],
      "metadata": {
        "id": "Kllu7SJgmLij"
      },
      "execution_count": null,
      "outputs": []
    },
    {
      "cell_type": "code",
      "source": [
        "# Dataset Rows & Columns count\n",
        "df.shape\n"
      ],
      "metadata": {
        "id": "AEhRUJbKbEAh"
      },
      "execution_count": null,
      "outputs": []
    },
    {
      "cell_type": "markdown",
      "source": [
        "### Dataset Information"
      ],
      "metadata": {
        "id": "JlHwYmJAmNHm"
      }
    },
    {
      "cell_type": "code",
      "source": [
        "# Dataset Info"
      ],
      "metadata": {
        "id": "e9hRXRi6meOf"
      },
      "execution_count": null,
      "outputs": []
    },
    {
      "cell_type": "code",
      "source": [
        "# Dataset Info\n",
        "df.info()\n"
      ],
      "metadata": {
        "id": "fdWXf9lebH2N"
      },
      "execution_count": null,
      "outputs": []
    },
    {
      "cell_type": "markdown",
      "source": [
        "#### Duplicate Values"
      ],
      "metadata": {
        "id": "35m5QtbWiB9F"
      }
    },
    {
      "cell_type": "code",
      "source": [
        "# Dataset Duplicate Value Count"
      ],
      "metadata": {
        "id": "1sLdpKYkmox0"
      },
      "execution_count": null,
      "outputs": []
    },
    {
      "cell_type": "code",
      "source": [
        "# Dataset Duplicate Value Count\n",
        "df.duplicated().sum()\n"
      ],
      "metadata": {
        "id": "k2V1MYzOf6cp"
      },
      "execution_count": null,
      "outputs": []
    },
    {
      "cell_type": "markdown",
      "source": [
        "# Removing duplicate rows\n"
      ],
      "metadata": {
        "id": "xzvrrI5kg1xm"
      }
    },
    {
      "cell_type": "code",
      "source": [
        "df.drop_duplicates(inplace=True)\n"
      ],
      "metadata": {
        "id": "OI3liwtEgW5F"
      },
      "execution_count": null,
      "outputs": []
    },
    {
      "cell_type": "markdown",
      "source": [
        "#### Missing Values/Null Values"
      ],
      "metadata": {
        "id": "PoPl-ycgm1ru"
      }
    },
    {
      "cell_type": "code",
      "source": [
        "# Missing Values/Null Values Count"
      ],
      "metadata": {
        "id": "GgHWkxvamxVg"
      },
      "execution_count": null,
      "outputs": []
    },
    {
      "cell_type": "code",
      "source": [
        "# Missing Values/Null Values Count\n",
        "df.isnull().sum()\n"
      ],
      "metadata": {
        "id": "mEbtU-59hWZG"
      },
      "execution_count": null,
      "outputs": []
    },
    {
      "cell_type": "code",
      "source": [
        "# ✅ Show missing values as percentage of total records\n",
        "(df.isnull().sum() / len(df)) * 100\n"
      ],
      "metadata": {
        "id": "rQHKPjNojOAX"
      },
      "execution_count": null,
      "outputs": []
    },
    {
      "cell_type": "code",
      "source": [
        "# Visualizing the missing values"
      ],
      "metadata": {
        "id": "3q5wnI3om9sJ"
      },
      "execution_count": null,
      "outputs": []
    },
    {
      "cell_type": "code",
      "source": [
        "#  Visualize missing values using seaborn heatmap\n",
        "import seaborn as sns\n",
        "import matplotlib.pyplot as plt\n",
        "\n",
        "plt.figure(figsize=(10,6))\n",
        "sns.heatmap(df.isnull(), cbar=False, cmap='Blues')\n",
        "plt.title(\"Missing Values Heatmap\")\n",
        "plt.show()\n"
      ],
      "metadata": {
        "id": "xriRWKbBjc8n"
      },
      "execution_count": null,
      "outputs": []
    },
    {
      "cell_type": "markdown",
      "source": [
        "### What did you know about your dataset?"
      ],
      "metadata": {
        "id": "H0kj-8xxnORC"
      }
    },
    {
      "cell_type": "markdown",
      "source": [
        "Answer Here-\n",
        "-The dataset contains 6,745 Uber request entries and 6 original columns.\n",
        "- After cleaning, we added new columns such as `request_hour` and `request_date` to support time-based analysis.\n",
        "- Approximately **39.3%** of `driver_id` values are missing, which likely indicates unassigned drivers or system unavailability.\n",
        "- About **58%** of entries have missing `drop_timestamp`, suggesting many trips were either cancelled or not fulfilled.\n",
        "- There are no null values in `request_id`, `pickup_point`, `status`, or `request_timestamp`, which are key fields for analysis.\n",
        "- The dataset is well-structured for analyzing supply-demand gaps, time patterns, and cancellation causes.\n"
      ],
      "metadata": {
        "id": "gfoNAAC-nUe_"
      }
    },
    {
      "cell_type": "markdown",
      "source": [
        "## ***2. Understanding Your Variables***"
      ],
      "metadata": {
        "id": "nA9Y7ga8ng1Z"
      }
    },
    {
      "cell_type": "code",
      "source": [
        "# Dataset Columns"
      ],
      "metadata": {
        "id": "j7xfkqrt5Ag5"
      },
      "execution_count": null,
      "outputs": []
    },
    {
      "cell_type": "code",
      "source": [
        "# Dataset Columns\n",
        "df.columns\n"
      ],
      "metadata": {
        "id": "vMyyH_K8nxgD"
      },
      "execution_count": null,
      "outputs": []
    },
    {
      "cell_type": "code",
      "source": [
        "# Dataset Describe"
      ],
      "metadata": {
        "id": "DnOaZdaE5Q5t"
      },
      "execution_count": null,
      "outputs": []
    },
    {
      "cell_type": "code",
      "source": [
        "# Dataset Describe\n",
        "df.describe(include='all')\n"
      ],
      "metadata": {
        "id": "RrigybWroIhI"
      },
      "execution_count": null,
      "outputs": []
    },
    {
      "cell_type": "markdown",
      "source": [
        "### Variables Description"
      ],
      "metadata": {
        "id": "PBTbrJXOngz2"
      }
    },
    {
      "cell_type": "markdown",
      "source": [
        "Answer Here- - `Request id`: A unique integer identifier for each Uber ride request.\n",
        "- `Pickup point`: The location where the ride was requested — either \"City\" or \"Airport\".\n",
        "- `Driver id`: Numeric ID of the assigned driver. Around 39% are missing, indicating no driver was assigned.\n",
        "- `Status`: The final outcome of the request — can be \"Trip Completed\", \"Cancelled\", or \"No Cars Available\".\n",
        "- `Request timestamp`: The date and time when the ride was requested, in mixed datetime format.\n",
        "- `Drop timestamp`: The date and time when the trip ended. Missing for about 58% of rows due to unfulfilled requests.\n"
      ],
      "metadata": {
        "id": "aJV4KIxSnxay"
      }
    },
    {
      "cell_type": "markdown",
      "source": [
        "### Check Unique Values for each variable."
      ],
      "metadata": {
        "id": "u3PMJOP6ngxN"
      }
    },
    {
      "cell_type": "code",
      "source": [
        "# Check Unique Values for each variable."
      ],
      "metadata": {
        "id": "zms12Yq5n-jE"
      },
      "execution_count": null,
      "outputs": []
    },
    {
      "cell_type": "code",
      "source": [
        "#  Loop through all columns and print number of unique values\n",
        "for col in df.columns:\n",
        "    print(f\" {col} ➤ {df[col].nunique()} unique values\")\n",
        "\n",
        "# Optional: Show actual unique values for key categorical columns\n",
        "print(\"\\n Unique values in 'Pickup point':\", df['Pickup point'].unique())\n",
        "print(\" Unique values in 'Status':\", df['Status'].unique())\n",
        "print(\"Unique driver IDs (sample):\", df['Driver id'].dropna().unique()[:10])  # show only a sample\n"
      ],
      "metadata": {
        "id": "ncsYPdkxpLaA"
      },
      "execution_count": null,
      "outputs": []
    },
    {
      "cell_type": "markdown",
      "source": [
        "## 3. ***Data Wrangling***"
      ],
      "metadata": {
        "id": "dauF4eBmngu3"
      }
    },
    {
      "cell_type": "markdown",
      "source": [
        "### Data Wrangling Code"
      ],
      "metadata": {
        "id": "bKJF3rekwFvQ"
      }
    },
    {
      "cell_type": "code",
      "source": [
        "# Write your code to make your dataset analysis ready."
      ],
      "metadata": {
        "id": "wk-9a2fpoLcV"
      },
      "execution_count": null,
      "outputs": []
    },
    {
      "cell_type": "code",
      "source": [
        "# 1. Standardize column names (remove extra spaces or fix case)\n",
        "df.columns = df.columns.str.strip().str.lower().str.replace(\" \", \"_\")\n",
        "\n",
        "# 2. Convert timestamp columns to datetime with dayfirst=True\n",
        "df['request_timestamp'] = pd.to_datetime(df['request_timestamp'], dayfirst=True, errors='coerce')\n",
        "df['drop_timestamp'] = pd.to_datetime(df['drop_timestamp'], dayfirst=True, errors='coerce')\n",
        "\n",
        "\n",
        "#  3. Fill missing driver_id with 'Unavailable' and convert column to string for consistency\n",
        "df['driver_id'] = df['driver_id'].fillna('Unavailable').astype(str)\n",
        "\n",
        "#  4. Fill missing status with 'Missing' if any (precautionary)\n",
        "df['status'] = df['status'].fillna('Missing')\n",
        "\n",
        "#  5. Add new column: Hour of request\n",
        "df['request_hour'] = df['request_timestamp'].dt.hour\n",
        "\n",
        "# 6. Add new column: Date of request\n",
        "df['request_date'] = df['request_timestamp'].dt.date\n",
        "\n",
        "# 7. (Optional) Preview the cleaned data\n",
        "df.head()\n"
      ],
      "metadata": {
        "id": "TLQ_k-bGrvYk"
      },
      "execution_count": null,
      "outputs": []
    },
    {
      "cell_type": "code",
      "source": [
        "df.to_csv(\"Cleaned_Uber_Request_Data.csv\", index=False)\n"
      ],
      "metadata": {
        "id": "tq9ulsVdvBmL"
      },
      "execution_count": null,
      "outputs": []
    },
    {
      "cell_type": "markdown",
      "source": [
        "### What all manipulations have you done and insights you found?"
      ],
      "metadata": {
        "id": "MSa1f5Uengrz"
      }
    },
    {
      "cell_type": "markdown",
      "source": [
        "Answer Here-**Manipulations Done:**\n",
        "- Cleaned and standardized column names for consistency.\n",
        "- Converted `request_timestamp` and `drop_timestamp` to proper datetime format using `dayfirst=True`.\n",
        "- Handled missing values:\n",
        "  - Filled missing `driver_id` with `'Unavailable'`.\n",
        "  - Filled missing `status` with `'Missing'` (precautionary, if any).\n",
        "- Created two new columns:\n",
        "  - `request_hour` — to analyze hourly trends\n",
        "  - `request_date` — for date-wise aggregation\n",
        "\n",
        "**Insights from Cleaned Output:**\n",
        "- The data shows many missing `drop_timestamp` values (`NaT`), indicating trips were not completed — this aligns with cancelled rides or no-driver scenarios.\n",
        "- Missing `driver_id` values were successfully replaced, ensuring the dataset remains consistent for grouped analysis.\n",
        "- `request_hour` and `request_date` columns were correctly extracted, confirming timestamps are now usable for time-based visualizations.\n"
      ],
      "metadata": {
        "id": "LbyXE7I1olp8"
      }
    },
    {
      "cell_type": "markdown",
      "source": [
        "## ***4. Data Vizualization, Storytelling & Experimenting with charts : Understand the relationships between variables***"
      ],
      "metadata": {
        "id": "GF8Ens_Soomf"
      }
    },
    {
      "cell_type": "markdown",
      "source": [
        "#### Chart - 1"
      ],
      "metadata": {
        "id": "0wOQAZs5pc--"
      }
    },
    {
      "cell_type": "code",
      "source": [
        "# Chart - 1 visualization code"
      ],
      "metadata": {
        "id": "7v_ESjsspbW7"
      },
      "execution_count": null,
      "outputs": []
    },
    {
      "cell_type": "code",
      "source": [
        "# Chart 1 – Request volume by hour\n",
        "import matplotlib.pyplot as plt\n",
        "import seaborn as sns\n",
        "\n",
        "# Set the plot style\n",
        "plt.figure(figsize=(12,6))\n",
        "sns.countplot(x='request_hour', data=df, palette='viridis')\n",
        "\n",
        "# Add titles and labels\n",
        "plt.title(\"Number of Uber Requests by Hour of the Day\", fontsize=14)\n",
        "plt.xlabel(\"Hour of Day (0-23)\", fontsize=12)\n",
        "plt.ylabel(\"Number of Requests\", fontsize=12)\n",
        "plt.xticks(rotation=0)\n",
        "plt.grid(axis='y', linestyle='--', alpha=0.5)\n",
        "plt.tight_layout()\n",
        "plt.show()\n"
      ],
      "metadata": {
        "id": "_JRsqObMvZe4"
      },
      "execution_count": null,
      "outputs": []
    },
    {
      "cell_type": "markdown",
      "source": [
        "##### 1. Why did you pick the specific chart?"
      ],
      "metadata": {
        "id": "K5QZ13OEpz2H"
      }
    },
    {
      "cell_type": "markdown",
      "source": [
        "Answer Here-I chose a countplot to visualize the number of Uber requests by hour because it effectively highlights demand trends across different times of the day. Since time-based analysis is crucial in transport data, this chart helps spot peak and off-peak hours clearly.\n"
      ],
      "metadata": {
        "id": "XESiWehPqBRc"
      }
    },
    {
      "cell_type": "markdown",
      "source": [
        "##### 2. What is/are the insight(s) found from the chart?"
      ],
      "metadata": {
        "id": "lQ7QKXXCp7Bj"
      }
    },
    {
      "cell_type": "markdown",
      "source": [
        "Answer Here-The chart reveals two major demand spikes:\n",
        "- Morning hours (5 AM – 10 AM)\n",
        "- Evening hours (5 PM – 9 PM)\n",
        "\n",
        "These align with typical office commute times. Demand is comparatively low during late night and mid-afternoon periods. This indicates potential strain during peak hours, especially if driver availability is not scaled proportionally.\n"
      ],
      "metadata": {
        "id": "C_j1G7yiqdRP"
      }
    },
    {
      "cell_type": "markdown",
      "source": [
        "##### 3. Will the gained insights help creating a positive business impact?\n",
        "Are there any insights that lead to negative growth? Justify with specific reason."
      ],
      "metadata": {
        "id": "448CDAPjqfQr"
      }
    },
    {
      "cell_type": "markdown",
      "source": [
        "Answer Here-Yes. These insights help Uber optimize driver allocation, reduce rider wait times, and improve customer satisfaction during rush hours. By forecasting demand peaks, Uber can implement surge pricing or offer incentives to drivers during high-demand periods, which positively impacts revenue.\n",
        "\n",
        "There are no direct insights leading to negative growth here. However, failure to address the high demand during peak hours may lead to lost customers due to long wait times or unfulfilled rides, which could indirectly hurt the business.\n"
      ],
      "metadata": {
        "id": "3cspy4FjqxJW"
      }
    },
    {
      "cell_type": "markdown",
      "source": [
        "#### Chart - 2"
      ],
      "metadata": {
        "id": "KSlN3yHqYklG"
      }
    },
    {
      "cell_type": "code",
      "source": [
        "# Chart - 2 visualization code"
      ],
      "metadata": {
        "id": "R4YgtaqtYklH"
      },
      "execution_count": null,
      "outputs": []
    },
    {
      "cell_type": "code",
      "source": [
        "# Chart 2 – Number of requests from Airport vs City\n",
        "plt.figure(figsize=(8,5))\n",
        "sns.countplot(x='pickup_point', data=df, palette='pastel')\n",
        "\n",
        "# Titles and labels\n",
        "plt.title(\"Number of Requests by Pickup Point\", fontsize=14)\n",
        "plt.xlabel(\"Pickup Location\", fontsize=12)\n",
        "plt.ylabel(\"Number of Requests\", fontsize=12)\n",
        "plt.grid(axis='y', linestyle='--', alpha=0.5)\n",
        "plt.tight_layout()\n",
        "plt.show()\n"
      ],
      "metadata": {
        "id": "ey61_-9e3Iiv"
      },
      "execution_count": null,
      "outputs": []
    },
    {
      "cell_type": "markdown",
      "source": [
        "##### 1. Why did you pick the specific chart?"
      ],
      "metadata": {
        "id": "t6dVpIINYklI"
      }
    },
    {
      "cell_type": "markdown",
      "source": [
        "Answer Here-I selected this chart to compare the number of ride requests between the two primary pickup locations: Airport and City. A bar chart is ideal for comparing categorical variables and clearly shows which location sees higher traffic.\n",
        "\n"
      ],
      "metadata": {
        "id": "5aaW0BYyYklI"
      }
    },
    {
      "cell_type": "markdown",
      "source": [
        "##### 2. What is/are the insight(s) found from the chart?"
      ],
      "metadata": {
        "id": "ijmpgYnKYklI"
      }
    },
    {
      "cell_type": "markdown",
      "source": [
        "Answer Here"
      ],
      "metadata": {
        "id": "PSx9atu2YklI"
      }
    },
    {
      "cell_type": "markdown",
      "source": [
        "##### 3. Will the gained insights help creating a positive business impact?\n",
        "Are there any insights that lead to negative growth? Justify with specific reason."
      ],
      "metadata": {
        "id": "-JiQyfWJYklI"
      }
    },
    {
      "cell_type": "markdown",
      "source": [
        "Answer Here-Yes. These insights help Uber plan driver distribution between Airport and City more efficiently. If one location is underserved, customers may face cancellations or delays, which negatively affects user experience. By balancing supply based on this chart, Uber can improve operational efficiency and customer satisfaction.\n",
        "\n",
        "There are no direct signs of negative growth, but a **lack of supply at either location despite high demand** could potentially harm Uber's reputation and lead to loss of users if not addressed.\n"
      ],
      "metadata": {
        "id": "BcBbebzrYklV"
      }
    },
    {
      "cell_type": "markdown",
      "source": [
        "#### Chart - 3"
      ],
      "metadata": {
        "id": "EM7whBJCYoAo"
      }
    },
    {
      "cell_type": "code",
      "source": [
        "# Chart - 3 visualization code"
      ],
      "metadata": {
        "id": "t6GMdE67YoAp"
      },
      "execution_count": null,
      "outputs": []
    },
    {
      "cell_type": "code",
      "source": [
        "# ----- Chart 3  : Heat-map  -----\n",
        "import seaborn as sns\n",
        "import matplotlib.pyplot as plt\n",
        "\n",
        "pivot = df.pivot_table(\n",
        "    index='pickup_point',\n",
        "    columns='status',\n",
        "    values='request_id',\n",
        "    aggfunc='count',\n",
        "    fill_value=0\n",
        ")\n",
        "\n",
        "plt.figure(figsize=(8,4))\n",
        "sns.heatmap(pivot, annot=True, fmt=\"d\", cmap=\"YlGnBu\")\n",
        "plt.title(\"Request Counts – Pickup vs Status\")\n",
        "plt.ylabel(\"Pickup Location\")\n",
        "plt.xlabel(\"Trip Status\")\n",
        "plt.tight_layout()\n",
        "plt.show()\n"
      ],
      "metadata": {
        "id": "90Mk4Eq45nNh"
      },
      "execution_count": null,
      "outputs": []
    },
    {
      "cell_type": "markdown",
      "source": [
        "##### 1. Why did you pick the specific chart?"
      ],
      "metadata": {
        "id": "fge-S5ZAYoAp"
      }
    },
    {
      "cell_type": "markdown",
      "source": [
        "Answer Here-A heatmap is excellent for comparing two categorical variables — in this case, pickup point and trip status. It visually encodes both the count (through color intensity) and actual values (annotations), making it easy to spot patterns, especially where service is falling short.\n"
      ],
      "metadata": {
        "id": "5dBItgRVYoAp"
      }
    },
    {
      "cell_type": "markdown",
      "source": [
        "##### 2. What is/are the insight(s) found from the chart?"
      ],
      "metadata": {
        "id": "85gYPyotYoAp"
      }
    },
    {
      "cell_type": "markdown",
      "source": [
        "Answer Here-\n",
        "Airport pickups have a significantly higher count of “No Cars Available” requests (1713) compared to Cancelled (198) or Completed (1327).\n",
        "City pickups, on the other hand, show more balanced distribution:\n",
        "Trip Completed (1504) is highest\n",
        "Cancelled (1066) is also relatively high\n",
        "No Cars Available (937) is lower than the airport.\n",
        "This suggests that lack of car availability is a major issue at the airport, while cancellation is a bigger issue in the city."
      ],
      "metadata": {
        "id": "4jstXR6OYoAp"
      }
    },
    {
      "cell_type": "markdown",
      "source": [
        "##### 3. Will the gained insights help creating a positive business impact?\n",
        "Are there any insights that lead to negative growth? Justify with specific reason."
      ],
      "metadata": {
        "id": "RoGjAbkUYoAp"
      }
    },
    {
      "cell_type": "markdown",
      "source": [
        "Answer Here-Yes, absolutely.\n",
        "\n",
        "By deploying more drivers to airport locations, the company can reduce the “No Cars Available” rate, directly improving customer satisfaction and revenue.\n",
        "Meanwhile, tackling high cancellation rates in the city may involve improving driver behavior or system incentives.\n",
        "These changes can improve the fulfillment rate, reduce lost opportunities, and increase customer loyalty.\n",
        "\n",
        "Negative Growth Insight:\n",
        "Yes — the 1713 unserved requests at the airport reflect missed revenue and poor customer experience. If not resolved, this could push users toward competitors or alternative transport modes.\n",
        "\n"
      ],
      "metadata": {
        "id": "zfJ8IqMcYoAp"
      }
    },
    {
      "cell_type": "markdown",
      "source": [
        "#### Chart - 4"
      ],
      "metadata": {
        "id": "4Of9eVA-YrdM"
      }
    },
    {
      "cell_type": "code",
      "source": [
        "# Chart - 4 visualization code"
      ],
      "metadata": {
        "id": "irlUoxc8YrdO"
      },
      "execution_count": null,
      "outputs": []
    },
    {
      "cell_type": "code",
      "source": [
        "plt.figure(figsize=(12,6))\n",
        "sns.countplot(x='request_hour', hue='status', data=df, palette='muted')\n",
        "plt.title('Trip Status by Hour of the Day', fontsize=14)\n",
        "plt.xlabel('Hour of Day (0-23)', fontsize=12)\n",
        "plt.ylabel('Number of Requests', fontsize=12)\n",
        "plt.legend(title='Trip Status')\n",
        "plt.xticks(rotation=0)\n",
        "plt.grid(axis='y', linestyle='--', alpha=0.5)\n",
        "plt.tight_layout()\n",
        "plt.show()\n"
      ],
      "metadata": {
        "id": "-4owcQYj6h_C"
      },
      "execution_count": null,
      "outputs": []
    },
    {
      "cell_type": "markdown",
      "source": [
        "##### 1. Why did you pick the specific chart?"
      ],
      "metadata": {
        "id": "iky9q4vBYrdO"
      }
    },
    {
      "cell_type": "markdown",
      "source": [
        "Answer Here-We chose a grouped bar chart to show trip status distribution (Trip Completed, Cancelled, No Cars Available) across different hours of the day. This format clearly reveals time-based trends in trip outcomes, which wouldn't be as easy to spot in pie charts or heatmaps."
      ],
      "metadata": {
        "id": "aJRCwT6DYrdO"
      }
    },
    {
      "cell_type": "markdown",
      "source": [
        "##### 2. What is/are the insight(s) found from the chart?"
      ],
      "metadata": {
        "id": "F6T5p64dYrdO"
      }
    },
    {
      "cell_type": "markdown",
      "source": [
        "Answer Here-\n",
        "Early mornings (5 AM–9 AM) and evenings (5 PM–9 PM) are peak hours for trip requests.\n",
        "Morning hours (5 AM–9 AM) see high cancellations, especially around 6–8 AM.\n",
        "Evening hours (5 PM–9 PM) are dominated by \"No Cars Available\" issues, likely due to high demand but low driver availability.\n",
        "Midday hours (10 AM–4 PM) show relatively more Trip Completed requests."
      ],
      "metadata": {
        "id": "Xx8WAJvtYrdO"
      }
    },
    {
      "cell_type": "markdown",
      "source": [
        "##### 3. Will the gained insights help creating a positive business impact?\n",
        "Are there any insights that lead to negative growth? Justify with specific reason."
      ],
      "metadata": {
        "id": "y-Ehk30pYrdP"
      }
    },
    {
      "cell_type": "markdown",
      "source": [
        "Answer Here-Yes, absolutely.\n",
        "\n",
        "Uber can optimize driver supply by increasing availability in the evening peak hours to reduce “No Cars Available.”\n",
        "Morning cancellations might signal user drop-offs due to driver unresponsiveness or delays — addressing this improves customer experience.\n",
        "Strategic driver incentive programs could be scheduled during these high-demand windows to close the service gap.\n",
        "\n",
        "If these issues persist, customer dissatisfaction rises, usage drops, and growth slows due to lost trust and poor service availability in key time slots.\n"
      ],
      "metadata": {
        "id": "jLNxxz7MYrdP"
      }
    },
    {
      "cell_type": "markdown",
      "source": [
        "#### Chart - 5"
      ],
      "metadata": {
        "id": "bamQiAODYuh1"
      }
    },
    {
      "cell_type": "code",
      "source": [
        "# Chart - 5 visualization code"
      ],
      "metadata": {
        "id": "TIJwrbroYuh3"
      },
      "execution_count": null,
      "outputs": []
    },
    {
      "cell_type": "code",
      "source": [
        "import matplotlib.pyplot as plt\n",
        "\n",
        "# Count of each status\n",
        "status_counts = df['status'].value_counts()\n",
        "\n",
        "# Pie chart\n",
        "plt.figure(figsize=(7, 7))\n",
        "colors = ['#66b3ff', '#ff9999', '#99ff99']\n",
        "plt.pie(status_counts, labels=status_counts.index, autopct='%1.1f%%', startangle=140, colors=colors)\n",
        "plt.title('Trip Status Distribution')\n",
        "plt.axis('equal')  # Make it a circle\n",
        "plt.show()\n"
      ],
      "metadata": {
        "id": "h7bxFJ-b8Bg8"
      },
      "execution_count": null,
      "outputs": []
    },
    {
      "cell_type": "markdown",
      "source": [
        "##### 1. Why did you pick the specific chart?"
      ],
      "metadata": {
        "id": "QHF8YVU7Yuh3"
      }
    },
    {
      "cell_type": "markdown",
      "source": [
        "Answer Here-A pie chart is ideal for visualizing proportions within a single categorical variable. It gives a quick and intuitive view of how the total Uber requests are split among the three status categories (Trip Completed, Cancelled, No Cars Available). This helps decision-makers instantly spot imbalance or inefficiencies."
      ],
      "metadata": {
        "id": "dcxuIMRPYuh3"
      }
    },
    {
      "cell_type": "markdown",
      "source": [
        "##### 2. What is/are the insight(s) found from the chart?"
      ],
      "metadata": {
        "id": "GwzvFGzlYuh3"
      }
    },
    {
      "cell_type": "markdown",
      "source": [
        "Answer Here-Only 42% of requests were successfully completed.\n",
        "A significant 39.3% of requests could not be fulfilled due to no cars being available.\n",
        "18.7% were cancelled, either by users or drivers.\n",
        "This shows that more than half of Uber service attempts fail, which is a major concern for customer satisfaction and operational efficiency."
      ],
      "metadata": {
        "id": "uyqkiB8YYuh3"
      }
    },
    {
      "cell_type": "markdown",
      "source": [
        "##### 3. Will the gained insights help creating a positive business impact?\n",
        "Are there any insights that lead to negative growth? Justify with specific reason."
      ],
      "metadata": {
        "id": "qYpmQ266Yuh3"
      }
    },
    {
      "cell_type": "markdown",
      "source": [
        "Answer Here-Yes. The insights highlight major service gaps — especially the large number of unfulfilled requests due to unavailable cars. By addressing these gaps (e.g., better driver scheduling, dynamic incentives), Uber can significantly improve trip completion rates, enhance customer experience, and potentially increase revenue."
      ],
      "metadata": {
        "id": "_WtzZ_hCYuh4"
      }
    },
    {
      "cell_type": "markdown",
      "source": [
        "#### Chart - 6"
      ],
      "metadata": {
        "id": "OH-pJp9IphqM"
      }
    },
    {
      "cell_type": "code",
      "source": [
        "# Chart - 6 visualization code"
      ],
      "metadata": {
        "id": "kuRf4wtuphqN"
      },
      "execution_count": null,
      "outputs": []
    },
    {
      "cell_type": "code",
      "source": [
        "import matplotlib.pyplot as plt\n",
        "\n",
        "# Check which requests had a driver_id vs were unassigned\n",
        "assigned = df['driver_id'].apply(lambda x: x != 'Unavailable').value_counts()\n",
        "\n",
        "# Labels\n",
        "labels = ['Driver Assigned', 'Driver Not Assigned']\n",
        "colors = ['#4CAF50', '#FF6F61']\n",
        "\n",
        "# Plot\n",
        "plt.figure(figsize=(6,6))\n",
        "plt.pie(assigned, labels=labels, autopct='%1.1f%%', startangle=90, colors=colors, wedgeprops=dict(width=0.4))\n",
        "plt.title('Driver Assignment Distribution')\n",
        "plt.axis('equal')  # Equal aspect ratio ensures it looks like a circle\n",
        "plt.show()\n"
      ],
      "metadata": {
        "id": "4G4BGC7cAIbY"
      },
      "execution_count": null,
      "outputs": []
    },
    {
      "cell_type": "markdown",
      "source": [
        "##### 1. Why did you pick the specific chart?"
      ],
      "metadata": {
        "id": "bbFf2-_FphqN"
      }
    },
    {
      "cell_type": "markdown",
      "source": [
        "Answer Here-This donut chart was chosen because it clearly represents the proportion of ride requests that had a driver assigned versus those that didn’t. The circular format with a hollow center emphasizes segmentation and is visually distinct from previously used bar and line charts, offering a fresh, intuitive view of fulfillment efficiency."
      ],
      "metadata": {
        "id": "loh7H2nzphqN"
      }
    },
    {
      "cell_type": "markdown",
      "source": [
        "##### 2. What is/are the insight(s) found from the chart?"
      ],
      "metadata": {
        "id": "_ouA3fa0phqN"
      }
    },
    {
      "cell_type": "markdown",
      "source": [
        "Answer Here-assigned. This reveals a significant driver shortage or allocation issue, where nearly 4 out of 10 requests fail at the assignment stage before the ride can even begin."
      ],
      "metadata": {
        "id": "VECbqPI7phqN"
      }
    },
    {
      "cell_type": "markdown",
      "source": [
        "##### 3. Will the gained insights help creating a positive business impact?\n",
        "Are there any insights that lead to negative growth? Justify with specific reason."
      ],
      "metadata": {
        "id": "Seke61FWphqN"
      }
    },
    {
      "cell_type": "markdown",
      "source": [
        "Answer Here-Yes, this insight has both positive and negative implications:\n",
        "\n",
        "Positive impact: It helps the business identify a key operational gap in driver availability, enabling data-backed resource planning, surge allocation, and driver hiring strategies.\n",
        "Negative growth: A 39% driver assignment failure rate can directly lead to poor customer experience, reduced bookings, and eventual churn. Immediate steps are needed to bridge this gap in high-demand areas or hours."
      ],
      "metadata": {
        "id": "DW4_bGpfphqN"
      }
    },
    {
      "cell_type": "markdown",
      "source": [
        "#### Chart - 7"
      ],
      "metadata": {
        "id": "PIIx-8_IphqN"
      }
    },
    {
      "cell_type": "code",
      "source": [
        "# Chart - 7 visualization code"
      ],
      "metadata": {
        "id": "lqAIGUfyphqO"
      },
      "execution_count": null,
      "outputs": []
    },
    {
      "cell_type": "code",
      "source": [
        "# Group by hour and pickup point, then count requests\n",
        "heatmap_data = df.groupby(['request_hour', 'pickup_point'])['request_id'].count().unstack()\n",
        "\n",
        "# Plot heatmap\n",
        "plt.figure(figsize=(10, 6))\n",
        "sns.heatmap(heatmap_data, annot=True, fmt='d', cmap='YlGnBu')\n",
        "\n",
        "plt.title('Heatmap: Number of Requests by Hour & Pickup Point')\n",
        "plt.xlabel('Pickup Point')\n",
        "plt.ylabel('Hour of the Day (0–23)')\n",
        "plt.tight_layout()\n",
        "plt.show()\n"
      ],
      "metadata": {
        "id": "5eCzxl3wBiPF"
      },
      "execution_count": null,
      "outputs": []
    },
    {
      "cell_type": "markdown",
      "source": [
        "##### 1. Why did you pick the specific chart?"
      ],
      "metadata": {
        "id": "t27r6nlMphqO"
      }
    },
    {
      "cell_type": "markdown",
      "source": [
        "Answer Here-A heatmap is ideal for showing the density of values across two categorical dimensions — in this case, hour of the day and pickup point. It helps quickly identify patterns in high or low request volumes across time and location without needing multiple charts."
      ],
      "metadata": {
        "id": "iv6ro40sphqO"
      }
    },
    {
      "cell_type": "markdown",
      "source": [
        "##### 2. What is/are the insight(s) found from the chart?"
      ],
      "metadata": {
        "id": "r2jJGEOYphqO"
      }
    },
    {
      "cell_type": "markdown",
      "source": [
        "Answer Here-City: High number of ride requests occurs in the early morning hours (5 AM–9 AM), likely due to office commute rush.\n",
        "Airport: Peak requests happen in the evening hours (5 PM–9 PM), possibly due to flight arrivals or end-of-day travel.\n",
        "Midday hours in both locations show relatively low request volumes."
      ],
      "metadata": {
        "id": "Po6ZPi4hphqO"
      }
    },
    {
      "cell_type": "markdown",
      "source": [
        "##### 3. Will the gained insights help creating a positive business impact?\n",
        "Are there any insights that lead to negative growth? Justify with specific reason."
      ],
      "metadata": {
        "id": "b0JNsNcRphqO"
      }
    },
    {
      "cell_type": "markdown",
      "source": [
        "Answer Here-To minimize cancellations and improve customer satisfaction:\n",
        "\n",
        "Reallocate drivers dynamically based on these time-location patterns.\n",
        "Ensure higher driver availability in the city during morning rush hours and at the airport during evenings.\n",
        "Use predictive scheduling to reduce unmet demand and improve fulfillment rates during these peak periods."
      ],
      "metadata": {
        "id": "xvSq8iUTphqO"
      }
    },
    {
      "cell_type": "markdown",
      "source": [
        "#### Chart - 8"
      ],
      "metadata": {
        "id": "BZR9WyysphqO"
      }
    },
    {
      "cell_type": "code",
      "source": [
        "# Chart - 8 visualization code"
      ],
      "metadata": {
        "id": "TdPTWpAVphqO"
      },
      "execution_count": null,
      "outputs": []
    },
    {
      "cell_type": "code",
      "source": [
        "# Filter for only rows with valid request timestamps\n",
        "valid_df = df.dropna(subset=['request_timestamp'])\n",
        "\n",
        "# Total requests per pickup point\n",
        "total_requests = valid_df.groupby('pickup_point')['request_id'].count()\n",
        "\n",
        "# Unavailable drivers per pickup point\n",
        "unavailable_requests = valid_df[valid_df['driver_id'] == 'Unavailable'].groupby('pickup_point')['request_id'].count()\n",
        "\n",
        "# Calculate % unassigned\n",
        "unassigned_percent = (unavailable_requests / total_requests) * 100\n",
        "\n",
        "# Plot\n",
        "plt.figure(figsize=(8, 5))\n",
        "unassigned_percent.plot(kind='bar', color='tomato')\n",
        "plt.title('Driver Unavailability Rate by Pickup Point')\n",
        "plt.ylabel('% of Requests with No Driver Assigned')\n",
        "plt.xlabel('Pickup Point')\n",
        "plt.ylim(0, 100)\n",
        "plt.grid(axis='y')\n",
        "plt.tight_layout()\n",
        "plt.show()\n"
      ],
      "metadata": {
        "id": "7tVYmV68Dbtw"
      },
      "execution_count": null,
      "outputs": []
    },
    {
      "cell_type": "markdown",
      "source": [
        "##### 1. Why did you pick the specific chart?"
      ],
      "metadata": {
        "id": "jj7wYXLtphqO"
      }
    },
    {
      "cell_type": "markdown",
      "source": [
        "Answer Here-This chart was chosen to highlight the operational inefficiencies in assigning drivers from different pickup points. Instead of raw counts, we show the percentage of requests without a driver, giving a clearer picture of supply gaps — especially helpful for management decisions."
      ],
      "metadata": {
        "id": "Ob8u6rCTphqO"
      }
    },
    {
      "cell_type": "markdown",
      "source": [
        "##### 2. What is/are the insight(s) found from the chart?"
      ],
      "metadata": {
        "id": "eZrbJ2SmphqO"
      }
    },
    {
      "cell_type": "markdown",
      "source": [
        "Answer Here- The Airport has a significantly higher driver unavailability rate (~50%) compared to the City (~25%).\n",
        "This implies a severe driver shortage at the Airport, which can lead to lost revenue, longer wait times, and customer dissatisfaction."
      ],
      "metadata": {
        "id": "mZtgC_hjphqO"
      }
    },
    {
      "cell_type": "markdown",
      "source": [
        "##### 3. Will the gained insights help creating a positive business impact?\n",
        "Are there any insights that lead to negative growth? Justify with specific reason."
      ],
      "metadata": {
        "id": "rFu4xreNphqO"
      }
    },
    {
      "cell_type": "markdown",
      "source": [
        "Answer Here- Reallocate or increase driver availability at the Airport during peak request times.\n",
        "Incentivize drivers to accept airport pickups by offering bonuses or priority queues.\n",
        "Use predictive scheduling to match driver supply to anticipated demand based on historical patterns."
      ],
      "metadata": {
        "id": "ey_0qi68phqO"
      }
    },
    {
      "cell_type": "markdown",
      "source": [
        "#### Chart - 9"
      ],
      "metadata": {
        "id": "YJ55k-q6phqO"
      }
    },
    {
      "cell_type": "code",
      "source": [
        "# Chart - 9 visualization code"
      ],
      "metadata": {
        "id": "B2aS4O1ophqO"
      },
      "execution_count": null,
      "outputs": []
    },
    {
      "cell_type": "code",
      "source": [
        "import pandas as pd\n",
        "import matplotlib.pyplot as plt\n",
        "import seaborn as sns\n",
        "\n",
        "# Load cleaned Uber dataset\n",
        "df = pd.read_csv(\"Cleaned_Uber_Request_Data.csv\")\n",
        "\n",
        "# Convert 'request_timestamp' to datetime\n",
        "df['request_timestamp'] = pd.to_datetime(df['request_timestamp'])\n",
        "\n",
        "# Extract hour and weekday from the timestamp\n",
        "df['hour'] = df['request_timestamp'].dt.hour\n",
        "df['weekday'] = df['request_timestamp'].dt.day_name()\n",
        "\n",
        "# Create a combined column for status and pickup point (optional but flexible)\n",
        "df['Status@Pickup'] = df['status'] + ' @ ' + df['pickup_point']\n",
        "\n",
        "# Create pivot table: weekdays vs hours (count of requests)\n",
        "pivot_heatmap = pd.pivot_table(\n",
        "    df,\n",
        "    index='weekday',\n",
        "    columns='hour',\n",
        "    values='Status@Pickup',  # could also use 'request_id'\n",
        "    aggfunc='count',\n",
        "    fill_value=0\n",
        ")\n",
        "\n",
        "# Reorder weekdays properly\n",
        "weekday_order = ['Monday', 'Tuesday', 'Wednesday', 'Thursday', 'Friday', 'Saturday', 'Sunday']\n",
        "pivot_heatmap = pivot_heatmap.reindex(weekday_order)\n",
        "\n",
        "# Plot the heatmap\n",
        "plt.figure(figsize=(14, 7))\n",
        "sns.heatmap(pivot_heatmap, cmap=\"viridis\", linewidths=0.3, linecolor='gray')\n",
        "plt.title(\"Heatmap: Total Requests by Hour and Weekday (All Statuses Combined)\")\n",
        "plt.xlabel(\"Hour of Day\")\n",
        "plt.ylabel(\"Day of Week\")\n",
        "plt.tight_layout()\n",
        "plt.show()\n"
      ],
      "metadata": {
        "id": "0CP1mh5lGj53"
      },
      "execution_count": null,
      "outputs": []
    },
    {
      "cell_type": "markdown",
      "source": [
        "##### 1. Why did you pick the specific chart?"
      ],
      "metadata": {
        "id": "gCFgpxoyphqP"
      }
    },
    {
      "cell_type": "markdown",
      "source": [
        "Answer Here-This heatmap was selected because it provides a compact visual summary of Uber request activity across both hours of the day and days of the week, revealing trends and patterns that are not easily captured in simple bar or pie charts. It helps in identifying peak and off-peak hours, especially when analyzed across weekdays."
      ],
      "metadata": {
        "id": "TVxDimi2phqP"
      }
    },
    {
      "cell_type": "markdown",
      "source": [
        "##### 2. What is/are the insight(s) found from the chart?"
      ],
      "metadata": {
        "id": "OVtJsKN_phqQ"
      }
    },
    {
      "cell_type": "markdown",
      "source": [
        "Answer Here-The dataset contains data only for Monday and Tuesday, with no entries for the remaining days.\n",
        "Peak demand occurs in the early morning (5–9 AM) and late evening (5–10 PM) on both days.\n",
        "Monday generally shows slightly higher activity than Tuesday across most hours, confirming initial assumptions from earlier visuals."
      ],
      "metadata": {
        "id": "ngGi97qjphqQ"
      }
    },
    {
      "cell_type": "markdown",
      "source": [
        "##### 3. Will the gained insights help creating a positive business impact?\n",
        "Are there any insights that lead to negative growth? Justify with specific reason."
      ],
      "metadata": {
        "id": "lssrdh5qphqQ"
      }
    },
    {
      "cell_type": "markdown",
      "source": [
        "Answer Here-Ensure higher driver availability during morning and evening peak hours on weekdays to reduce cancellations and missed rides.\n",
        "Expand data collection to other days of the week to gain a full understanding of weekly trends and make more accurate demand forecasts.\n",
        "Use this pattern to schedule driver shifts strategically for maximum efficiency and customer satisfaction."
      ],
      "metadata": {
        "id": "tBpY5ekJphqQ"
      }
    },
    {
      "cell_type": "markdown",
      "source": [
        "#### Chart - 10"
      ],
      "metadata": {
        "id": "U2RJ9gkRphqQ"
      }
    },
    {
      "cell_type": "code",
      "source": [
        "# Chart - 10 visualization code"
      ],
      "metadata": {
        "id": "GM7a4YP4phqQ"
      },
      "execution_count": null,
      "outputs": []
    },
    {
      "cell_type": "code",
      "source": [
        "# Import required libraries\n",
        "import pandas as pd\n",
        "import matplotlib.pyplot as plt\n",
        "import seaborn as sns\n",
        "\n",
        "# Load the cleaned Uber dataset\n",
        "df = pd.read_csv(\"Cleaned_Uber_Request_Data.csv\")\n",
        "\n",
        "# Convert timestamps to datetime format\n",
        "df['request_timestamp'] = pd.to_datetime(df['request_timestamp'], errors='coerce')\n",
        "df['drop_timestamp'] = pd.to_datetime(df['drop_timestamp'], errors='coerce')\n",
        "\n",
        "# Filter only rows where trip was completed and timestamps are not missing\n",
        "completed = df[(df['status'] == 'Trip Completed') &\n",
        "               df['request_timestamp'].notna() &\n",
        "               df['drop_timestamp'].notna()]\n",
        "\n",
        "# Create 'request_hour' column if not already present\n",
        "if 'request_hour' not in completed.columns:\n",
        "    completed['request_hour'] = completed['request_timestamp'].dt.hour\n",
        "\n",
        "# Calculate pickup delay in minutes\n",
        "completed['pickup_delay'] = (completed['drop_timestamp'] - completed['request_timestamp']).dt.total_seconds() / 60\n",
        "\n",
        "# Filter out extreme or invalid values (optional)\n",
        "completed = completed[(completed['pickup_delay'] >= 0) & (completed['pickup_delay'] <= 120)]\n",
        "\n",
        "# Create the boxplot\n",
        "plt.figure(figsize=(14, 6))\n",
        "sns.boxplot(x='request_hour', y='pickup_delay', data=completed)\n",
        "\n",
        "# Add chart details\n",
        "plt.title(\"Pickup Delay (in minutes) Across Hours of the Day\")\n",
        "plt.xlabel(\"Hour of the Day\")\n",
        "plt.ylabel(\"Pickup Delay (minutes)\")\n",
        "plt.grid(True)\n",
        "plt.tight_layout()\n",
        "plt.show()\n"
      ],
      "metadata": {
        "id": "x4RnYlCLM29v"
      },
      "execution_count": null,
      "outputs": []
    },
    {
      "cell_type": "markdown",
      "source": [
        "##### 1. Why did you pick the specific chart?"
      ],
      "metadata": {
        "id": "1M8mcRywphqQ"
      }
    },
    {
      "cell_type": "markdown",
      "source": [
        "Answer Here-We used a boxplot to visualize the distribution and variability of pickup delays across different hours of the day. Unlike bar charts or heatmaps, boxplots show spread, outliers, medians, and quartiles—all of which are useful for identifying patterns or anomalies in trip delays"
      ],
      "metadata": {
        "id": "8agQvks0phqQ"
      }
    },
    {
      "cell_type": "markdown",
      "source": [
        "##### 2. What is/are the insight(s) found from the chart?"
      ],
      "metadata": {
        "id": "tgIPom80phqQ"
      }
    },
    {
      "cell_type": "markdown",
      "source": [
        "Answer Here-Pickup delays are relatively high and consistently spread out across the day.\n",
        "Some hours (like 2 AM and 3 AM) have higher median delays, possibly due to fewer drivers being available.\n",
        "There is noticeable variation in the delay across hours, with several outliers (delays >75 mins), indicating that wait times may be unpredictable during certain periods."
      ],
      "metadata": {
        "id": "Qp13pnNzphqQ"
      }
    },
    {
      "cell_type": "markdown",
      "source": [
        "##### 3. Will the gained insights help creating a positive business impact?\n",
        "Are there any insights that lead to negative growth? Justify with specific reason."
      ],
      "metadata": {
        "id": "JMzcOPDDphqR"
      }
    },
    {
      "cell_type": "markdown",
      "source": [
        "Answer Here-Improve driver availability during late-night and early-morning hours to reduce delays and increase customer satisfaction.\n",
        "Use this hourly pickup delay trend to restructure driver shift allocations, especially for high-delay periods.\n",
        "Consider using incentives or surge pricing to encourage drivers to be available during hours with the highest delay variance."
      ],
      "metadata": {
        "id": "R4Ka1PC2phqR"
      }
    },
    {
      "cell_type": "markdown",
      "source": [
        "#### Chart - 11"
      ],
      "metadata": {
        "id": "x-EpHcCOp1ci"
      }
    },
    {
      "cell_type": "code",
      "source": [
        "# Chart - 11 visualization code"
      ],
      "metadata": {
        "id": "mAQTIvtqp1cj"
      },
      "execution_count": null,
      "outputs": []
    },
    {
      "cell_type": "code",
      "source": [
        "import pandas as pd\n",
        "import matplotlib.pyplot as plt\n",
        "\n",
        "# Load dataset\n",
        "df = pd.read_csv('Cleaned_Uber_Request_Data.csv')\n",
        "\n",
        "# Filter only cancelled requests\n",
        "cancelled = df[df['status'] == 'Cancelled']\n",
        "\n",
        "# Calculate cancellation count per hour\n",
        "cancelled_by_hour = cancelled['request_hour'].value_counts().sort_index()\n",
        "\n",
        "# Calculate total requests per hour\n",
        "total_by_hour = df['request_hour'].value_counts().sort_index()\n",
        "\n",
        "# Compute cancellation rate (%)\n",
        "cancellation_rate = (cancelled_by_hour / total_by_hour) * 100\n",
        "\n",
        "# Plot\n",
        "plt.figure(figsize=(12, 6))\n",
        "plt.plot(cancellation_rate.index, cancellation_rate.values, marker='o', color='crimson')\n",
        "plt.title(\"Cancellation Rate by Hour of the Day\")\n",
        "plt.xlabel(\"Hour of the Day\")\n",
        "plt.ylabel(\"Cancellation Rate (%)\")\n",
        "plt.grid(True)\n",
        "plt.xticks(range(0, 24))\n",
        "plt.tight_layout()\n",
        "plt.show()\n"
      ],
      "metadata": {
        "id": "SR46fLzZPOpb"
      },
      "execution_count": null,
      "outputs": []
    },
    {
      "cell_type": "markdown",
      "source": [
        "##### 1. Why did you pick the specific chart?"
      ],
      "metadata": {
        "id": "X_VqEhTip1ck"
      }
    },
    {
      "cell_type": "markdown",
      "source": [
        "Answer Here-This line chart clearly shows trends over time (hourly) for cancellation rates, which wouldn’t be easily understood using bar or pie charts. It highlights peak cancellation hours smoothly and is ideal for identifying patterns across a day."
      ],
      "metadata": {
        "id": "-vsMzt_np1ck"
      }
    },
    {
      "cell_type": "markdown",
      "source": [
        "##### 2. What is/are the insight(s) found from the chart?"
      ],
      "metadata": {
        "id": "8zGJKyg5p1ck"
      }
    },
    {
      "cell_type": "markdown",
      "source": [
        "Answer Here-Cancellation rates spike sharply between 5 AM and 9 AM, peaking around 7 AM.\n",
        "This indicates morning rush hours face a severe lack of drivers or rider cancellations.\n",
        "Cancellation rates remain relatively low and stable post-noon."
      ],
      "metadata": {
        "id": "ZYdMsrqVp1ck"
      }
    },
    {
      "cell_type": "markdown",
      "source": [
        "##### 3. Will the gained insights help creating a positive business impact?\n",
        "Are there any insights that lead to negative growth? Justify with specific reason."
      ],
      "metadata": {
        "id": "PVzmfK_Ep1ck"
      }
    },
    {
      "cell_type": "markdown",
      "source": [
        "Answer Here-Focus on addressing early morning ride cancellations:\n",
        "\n",
        "Incentivize drivers to be available during 5 AM–9 AM.\n",
        "Consider advance booking or priority allocation for high-demand morning hours.\n",
        "Investigate if cancellations are rider-initiated or due to driver shortage, and act accordingly."
      ],
      "metadata": {
        "id": "druuKYZpp1ck"
      }
    },
    {
      "cell_type": "markdown",
      "source": [
        "#### Chart - 12"
      ],
      "metadata": {
        "id": "n3dbpmDWp1ck"
      }
    },
    {
      "cell_type": "code",
      "source": [
        "# Chart - 12 visualization code"
      ],
      "metadata": {
        "id": "bwevp1tKp1ck"
      },
      "execution_count": null,
      "outputs": []
    },
    {
      "cell_type": "code",
      "source": [
        "import pandas as pd\n",
        "import matplotlib.pyplot as plt\n",
        "\n",
        "# Load cleaned dataset\n",
        "df = pd.read_csv(\"Cleaned_Uber_Request_Data.csv\")\n",
        "\n",
        "# Convert request timestamp to datetime\n",
        "df['request_timestamp'] = pd.to_datetime(df['request_timestamp'], errors='coerce')\n",
        "\n",
        "# Extract hour from timestamp\n",
        "df['request_hour'] = df['request_timestamp'].dt.hour\n",
        "\n",
        "# Define a function to classify into dayparts\n",
        "def get_daypart(hour):\n",
        "    if 4 <= hour < 8:\n",
        "        return 'Early Morning'\n",
        "    elif 8 <= hour < 12:\n",
        "        return 'Morning'\n",
        "    elif 12 <= hour < 16:\n",
        "        return 'Afternoon'\n",
        "    elif 16 <= hour < 20:\n",
        "        return 'Evening'\n",
        "    elif 20 <= hour <= 23:\n",
        "        return 'Night'\n",
        "    else:\n",
        "        return 'Late Night'\n",
        "\n",
        "# Apply the function to create a new column\n",
        "df['daypart'] = df['request_hour'].apply(get_daypart)\n",
        "\n",
        "# Group by pickup point and daypart\n",
        "daypart_counts = df.groupby(['pickup_point', 'daypart']).size().unstack(fill_value=0)\n",
        "\n",
        "# Reorder the columns for consistent daypart sequence\n",
        "daypart_order = ['Early Morning', 'Morning', 'Afternoon', 'Evening', 'Night', 'Late Night']\n",
        "daypart_counts = daypart_counts[daypart_order]\n",
        "\n",
        "# Plotting\n",
        "daypart_counts.plot(kind='bar', stacked=True, figsize=(12, 6), colormap='Set2')\n",
        "\n",
        "# Chart labels and formatting\n",
        "plt.title(\"Ride Requests by Pickup Point Across Dayparts\")\n",
        "plt.xlabel(\"Pickup Point\")\n",
        "plt.ylabel(\"Number of Requests\")\n",
        "plt.xticks(rotation=0)\n",
        "plt.tight_layout()\n",
        "plt.show()\n"
      ],
      "metadata": {
        "id": "4JFu8IogQRdB"
      },
      "execution_count": null,
      "outputs": []
    },
    {
      "cell_type": "markdown",
      "source": [
        "##### 1. Why did you pick the specific chart?"
      ],
      "metadata": {
        "id": "ylSl6qgtp1ck"
      }
    },
    {
      "cell_type": "markdown",
      "source": [
        "Answer Here-This stacked bar chart helps visualize the contribution of different parts of the day (dayparts) to the total number of ride requests, split by pickup point (City or Airport). It provides deeper operational insight beyond just hourly trend"
      ],
      "metadata": {
        "id": "m2xqNkiQp1ck"
      }
    },
    {
      "cell_type": "markdown",
      "source": [
        "##### 2. What is/are the insight(s) found from the chart?"
      ],
      "metadata": {
        "id": "ZWILFDl5p1ck"
      }
    },
    {
      "cell_type": "markdown",
      "source": [
        "Answer Here-The City dominates ride requests across all dayparts, especially during Morning and Evening.\n",
        "Airport requests are mostly concentrated in the Early Morning and Night, hinting at flight schedules and airport activity.\n",
        "Afternoon and Late Night see relatively low demand across both pickup points."
      ],
      "metadata": {
        "id": "x-lUsV2mp1ck"
      }
    },
    {
      "cell_type": "markdown",
      "source": [
        "##### 3. Will the gained insights help creating a positive business impact?\n",
        "Are there any insights that lead to negative growth? Justify with specific reason."
      ],
      "metadata": {
        "id": "M7G43BXep1ck"
      }
    },
    {
      "cell_type": "markdown",
      "source": [
        "Answer Here-Increase driver availability at the Airport during night/early morning.\n",
        "Deploy more drivers in the City during peak dayparts (Morning/Evening).\n",
        "This segmentation allows better time-based resource allocation to meet user demand more efficiently.\n"
      ],
      "metadata": {
        "id": "5wwDJXsLp1cl"
      }
    },
    {
      "cell_type": "markdown",
      "source": [
        "#### Chart - 13"
      ],
      "metadata": {
        "id": "Ag9LCva-p1cl"
      }
    },
    {
      "cell_type": "code",
      "source": [
        "# Chart - 13 visualization code"
      ],
      "metadata": {
        "id": "EUfxeq9-p1cl"
      },
      "execution_count": null,
      "outputs": []
    },
    {
      "cell_type": "code",
      "source": [
        "import pandas as pd\n",
        "import matplotlib.pyplot as plt\n",
        "\n",
        "# Load the cleaned Uber dataset\n",
        "df = pd.read_csv(\"Cleaned_Uber_Request_Data.csv\")\n",
        "\n",
        "# Convert request timestamp to datetime\n",
        "df['request_timestamp'] = pd.to_datetime(df['request_timestamp'], errors='coerce')\n",
        "\n",
        "# Sort the DataFrame by timestamp\n",
        "df = df.sort_values(by='request_timestamp')\n",
        "\n",
        "# Calculate time gaps between requests for each pickup point\n",
        "df['time_gap'] = df.groupby('pickup_point')['request_timestamp'].diff().dt.total_seconds() / 60  # in minutes\n",
        "\n",
        "# Drop NA values from first entries in each group\n",
        "gap_data = df.dropna(subset=['time_gap'])\n",
        "\n",
        "# Plot histograms of time gaps for each pickup point\n",
        "plt.figure(figsize=(12, 6))\n",
        "for point in gap_data['pickup_point'].unique():\n",
        "    subset = gap_data[gap_data['pickup_point'] == point]\n",
        "    plt.hist(subset['time_gap'], bins=50, alpha=0.6, label=point)\n",
        "\n",
        "# Chart formatting\n",
        "plt.title('Distribution of Time Gaps Between Ride Requests by Pickup Point')\n",
        "plt.xlabel('Time Gap Between Requests (minutes)')\n",
        "plt.ylabel('Frequency')\n",
        "plt.legend(title='Pickup Point')\n",
        "plt.tight_layout()\n",
        "plt.show()\n"
      ],
      "metadata": {
        "id": "9mT0ioCHRv-x"
      },
      "execution_count": null,
      "outputs": []
    },
    {
      "cell_type": "markdown",
      "source": [
        "##### 1. Why did you pick the specific chart?"
      ],
      "metadata": {
        "id": "E6MkPsBcp1cl"
      }
    },
    {
      "cell_type": "markdown",
      "source": [
        "Answer Here-This histogram compares how frequently ride requests occur at different pickup points (Airport vs City). It tells us how often users are requesting rides and where demand is more continuous vs sporadic, which isn’t captured in previous visuals."
      ],
      "metadata": {
        "id": "V22bRsFWp1cl"
      }
    },
    {
      "cell_type": "markdown",
      "source": [
        "##### 2. What is/are the insight(s) found from the chart?"
      ],
      "metadata": {
        "id": "2cELzS2fp1cl"
      }
    },
    {
      "cell_type": "markdown",
      "source": [
        "Answer Here-City ride requests have shorter time gaps, indicating frequent and consistent demand.\n",
        "Airport shows longer time gaps between requests, likely due to fewer users or longer intervals between flights.\n",
        "There’s a clear contrast in usage patterns by location."
      ],
      "metadata": {
        "id": "ozQPc2_Ip1cl"
      }
    },
    {
      "cell_type": "markdown",
      "source": [
        "##### 3. Will the gained insights help creating a positive business impact?\n",
        "Are there any insights that lead to negative growth? Justify with specific reason."
      ],
      "metadata": {
        "id": "3MPXvC8up1cl"
      }
    },
    {
      "cell_type": "markdown",
      "source": [
        "Answer Here-Focus more drivers in the City where demand is continuous.\n",
        "For Airport, consider scheduling driver arrivals based on expected flight schedules or passenger clusters.\n",
        "Helps in fleet optimization, preventing driver idle time at low-frequency zones."
      ],
      "metadata": {
        "id": "GL8l1tdLp1cl"
      }
    },
    {
      "cell_type": "markdown",
      "source": [
        "#### Chart - 14 - Correlation Heatmap"
      ],
      "metadata": {
        "id": "NC_X3p0fY2L0"
      }
    },
    {
      "cell_type": "code",
      "source": [
        "# Correlation Heatmap visualization code"
      ],
      "metadata": {
        "id": "xyC9zolEZNRQ"
      },
      "execution_count": null,
      "outputs": []
    },
    {
      "cell_type": "code",
      "source": [
        "import pandas as pd\n",
        "import seaborn as sns\n",
        "import matplotlib.pyplot as plt\n",
        "\n",
        "# Load the cleaned Uber dataset\n",
        "df = pd.read_csv(\"Cleaned_Uber_Request_Data.csv\")\n",
        "\n",
        "# Convert timestamps to datetime format\n",
        "df['request_timestamp'] = pd.to_datetime(df['request_timestamp'], errors='coerce')\n",
        "df['drop_timestamp'] = pd.to_datetime(df['drop_timestamp'], errors='coerce')\n",
        "\n",
        "# Calculate trip duration in minutes\n",
        "df['trip_duration'] = (df['drop_timestamp'] - df['request_timestamp']).dt.total_seconds() / 60\n",
        "\n",
        "# Encode categorical variables into numeric\n",
        "df_numeric = df.copy()\n",
        "df_numeric['pickup_point'] = df_numeric['pickup_point'].astype('category').cat.codes\n",
        "df_numeric['status'] = df_numeric['status'].astype('category').cat.codes\n",
        "\n",
        "# Select only numeric columns relevant for correlation\n",
        "corr_data = df_numeric[['pickup_point', 'status', 'request_hour', 'trip_duration']]\n",
        "\n",
        "# Generate the correlation matrix\n",
        "correlation_matrix = corr_data.corr()\n",
        "\n",
        "# Plot the correlation heatmap\n",
        "plt.figure(figsize=(8, 6))\n",
        "sns.heatmap(correlation_matrix, annot=True, cmap='coolwarm', fmt=\".2f\", linewidths=0.5)\n",
        "plt.title(\"Correlation Heatmap of Uber Ride Features\")\n",
        "plt.tight_layout()\n",
        "plt.show()\n"
      ],
      "metadata": {
        "id": "Vhxi7FSTS9gh"
      },
      "execution_count": null,
      "outputs": []
    },
    {
      "cell_type": "markdown",
      "source": [
        "##### 1. Why did you pick the specific chart?"
      ],
      "metadata": {
        "id": "UV0SzAkaZNRQ"
      }
    },
    {
      "cell_type": "markdown",
      "source": [
        "Answer Here-A correlation heatmap is perfect for identifying relationships between variables such as pickup point, trip status, request hour, and trip duration. It’s a high-level view that can reveal hidden patterns or signal potential multicollinearity."
      ],
      "metadata": {
        "id": "DVPuT8LYZNRQ"
      }
    },
    {
      "cell_type": "markdown",
      "source": [
        "##### 2. What is/are the insight(s) found from the chart?"
      ],
      "metadata": {
        "id": "YPEH6qLeZNRQ"
      }
    },
    {
      "cell_type": "markdown",
      "source": [
        "Answer Here-There's a positive correlation between status and trip_duration, suggesting longer trips are more likely to be completed.\n",
        "pickup_point and trip_duration are weakly negatively correlated, implying slightly shorter trips from city vs. airport.\n",
        "request_hour doesn’t show strong correlation with trip duration or status, indicating time of day isn’t the main driver for trip length or status outcome."
      ],
      "metadata": {
        "id": "bfSqtnDqZNRR"
      }
    },
    {
      "cell_type": "markdown",
      "source": [
        "#### Chart - 15 - Pair Plot"
      ],
      "metadata": {
        "id": "q29F0dvdveiT"
      }
    },
    {
      "cell_type": "code",
      "source": [
        "# Pair Plot visualization code"
      ],
      "metadata": {
        "id": "o58-TEIhveiU"
      },
      "execution_count": null,
      "outputs": []
    },
    {
      "cell_type": "code",
      "source": [
        "import pandas as pd\n",
        "import seaborn as sns\n",
        "import matplotlib.pyplot as plt\n",
        "\n",
        "# Load the cleaned Uber dataset\n",
        "df = pd.read_csv(\"Cleaned_Uber_Request_Data.csv\")\n",
        "\n",
        "# Convert timestamps to datetime\n",
        "df['request_timestamp'] = pd.to_datetime(df['request_timestamp'], errors='coerce')\n",
        "df['drop_timestamp'] = pd.to_datetime(df['drop_timestamp'], errors='coerce')\n",
        "\n",
        "# Calculate trip duration (in minutes)\n",
        "df['trip_duration'] = (df['drop_timestamp'] - df['request_timestamp']).dt.total_seconds() / 60\n",
        "\n",
        "# Encode categorical variables\n",
        "df['pickup_point_code'] = df['pickup_point'].astype('category').cat.codes\n",
        "df['status_code'] = df['status'].astype('category').cat.codes\n",
        "\n",
        "# Prepare final DataFrame for plotting\n",
        "plot_df = df[['pickup_point_code', 'status_code', 'request_hour', 'trip_duration']]\n",
        "\n",
        "# Drop NaNs and infinite values\n",
        "plot_df = plot_df.replace([float('inf'), float('-inf')], pd.NA).dropna()\n",
        "\n",
        "# Create the pair plot\n",
        "sns.pairplot(plot_df, diag_kind='hist', plot_kws={'alpha': 0.5})\n",
        "plt.suptitle(\"Pair Plot of Uber Ride Variables\", y=1.02)\n",
        "plt.tight_layout()\n",
        "plt.show()\n"
      ],
      "metadata": {
        "id": "Pay6l1IWTT_-"
      },
      "execution_count": null,
      "outputs": []
    },
    {
      "cell_type": "markdown",
      "source": [
        "##### 1. Why did you pick the specific chart?"
      ],
      "metadata": {
        "id": "EXh0U9oCveiU"
      }
    },
    {
      "cell_type": "markdown",
      "source": [
        "Answer Here-The pair plot was selected because it gives a compact overview of bivariate relationships and distributions across multiple variables. It’s an excellent choice to understand how variables like pickup location, request hour, status, and trip duration interact with each other, all in one visual.\n"
      ],
      "metadata": {
        "id": "eMmPjTByveiU"
      }
    },
    {
      "cell_type": "markdown",
      "source": [
        "##### 2. What is/are the insight(s) found from the chart?"
      ],
      "metadata": {
        "id": "22aHeOlLveiV"
      }
    },
    {
      "cell_type": "markdown",
      "source": [
        "Answer Here-Trip duration seems to vary significantly but does not show a strong linear relationship with request hour, suggesting ride duration isn't necessarily time-of-day dependent.\n",
        "The pickup_point_code and status_code are categorical, and their scatter plots are mostly vertical bands, showing that they are not continuous and thus not numerically correlated.\n",
        "There’s a concentration of request hours around certain times, visible in the histogram.\n",
        "Status code 2 (probably 'Cancelled') dominates, which may indicate a higher cancellation rate that can be explored further."
      ],
      "metadata": {
        "id": "uPQ8RGwHveiV"
      }
    },
    {
      "cell_type": "markdown",
      "source": [
        "## **5. Solution to Business Objective**"
      ],
      "metadata": {
        "id": "JcMwzZxoAimU"
      }
    },
    {
      "cell_type": "markdown",
      "source": [
        "#### What do you suggest the client to achieve Business Objective ?\n",
        "Explain Briefly."
      ],
      "metadata": {
        "id": "8G2x9gOozGDZ"
      }
    },
    {
      "cell_type": "markdown",
      "source": [
        "Answer Here-To achieve the business objective, Uber should use historical request data to predict peak demand hours and locations, then proactively allocate more drivers during those periods—especially for City mornings and Airport evenings—to reduce cancellations, minimize wait times, and improve ride fulfillment."
      ],
      "metadata": {
        "id": "pASKb0qOza21"
      }
    },
    {
      "cell_type": "markdown",
      "source": [
        "# **Conclusion**"
      ],
      "metadata": {
        "id": "gCX9965dhzqZ"
      }
    },
    {
      "cell_type": "markdown",
      "source": [
        "Write the conclusion here-\n",
        "Through detailed analysis of Uber's ride request data, we identified clear supply-demand mismatches during peak hours, particularly in the mornings from the City and evenings from the Airport. High cancellation rates and driver unavailability during these periods highlight operational inefficiencies. By leveraging data-driven insights to optimize driver allocation, predict peak demand, and implement targeted interventions, Uber can significantly reduce missed rides, improve customer satisfaction, and enhance overall service efficiency."
      ],
      "metadata": {
        "id": "Fjb1IsQkh3yE"
      }
    },
    {
      "cell_type": "markdown",
      "source": [
        "### ***Hurrah! You have successfully completed your EDA Capstone Project !!!***"
      ],
      "metadata": {
        "id": "gIfDvo9L0UH2"
      }
    },
    {
      "cell_type": "code",
      "source": [],
      "metadata": {
        "id": "dYX880etpL0x"
      },
      "execution_count": null,
      "outputs": []
    },
    {
      "cell_type": "code",
      "source": [],
      "metadata": {
        "id": "-6Vl263upPVI"
      },
      "execution_count": null,
      "outputs": []
    }
  ]
}